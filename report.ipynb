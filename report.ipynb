{
 "cells": [
  {
   "cell_type": "code",
   "id": "initial_id",
   "metadata": {
    "collapsed": true,
    "ExecuteTime": {
     "end_time": "2025-06-10T22:35:29.890239Z",
     "start_time": "2025-06-10T22:35:29.881203Z"
    }
   },
   "source": [
    "from module.train_test_split import TrainTestSets\n",
    "from module.optimization import SMAOptTechAnalysis\n",
    "from module.strategies import SmaCross, strategy_2\n",
    "from backtesting import Backtest\n"
   ],
   "outputs": [],
   "execution_count": 5
  },
  {
   "metadata": {
    "ExecuteTime": {
     "end_time": "2025-06-10T22:33:04.895362Z",
     "start_time": "2025-06-10T22:33:04.653033Z"
    }
   },
   "cell_type": "code",
   "source": [
    "tts = TrainTestSets()\n",
    "ticker = 'BTC-USD'\n",
    "intervals = [\"4h\", \"1d\"]\n",
    "# dict\n",
    "data_tts = tts.interval_train_test_split(ticker=ticker, intervals=intervals)\n",
    "print(data_tts.keys())"
   ],
   "id": "a0ee9b5c9bcc1c2f",
   "outputs": [
    {
     "name": "stderr",
     "output_type": "stream",
     "text": [
      "[*********************100%***********************]  1 of 1 completed\n",
      "[*********************100%***********************]  1 of 1 completed"
     ]
    },
    {
     "name": "stdout",
     "output_type": "stream",
     "text": [
      "dict_keys(['4h_train', '4h_test', '1d_train', '1d_test'])\n"
     ]
    },
    {
     "name": "stderr",
     "output_type": "stream",
     "text": [
      "\n"
     ]
    }
   ],
   "execution_count": 3
  },
  {
   "metadata": {
    "ExecuteTime": {
     "end_time": "2025-06-10T22:33:26.480762Z",
     "start_time": "2025-06-10T22:33:11.178196Z"
    }
   },
   "cell_type": "code",
   "source": [
    "\n",
    "n1 = range(5,20)\n",
    "n2 = range(20,60)\n",
    "optimizer = SMAOptTechAnalysis(SmaCross)\n",
    "optimizer.sma_strategy_opt(all_data=data_tts, n1=n1, n2=n2)\n"
   ],
   "id": "63fc808553f9dfc4",
   "outputs": [
    {
     "name": "stderr",
     "output_type": "stream",
     "text": [
      "Traceback (most recent call last):\n",
      "  File \"/Library/Frameworks/Python.framework/Versions/3.12/lib/python3.12/multiprocessing/resource_tracker.py\", line 239, in main\n",
      "    cache[rtype].remove(name)\n",
      "KeyError: '/psm_313048a2'\n",
      "Traceback (most recent call last):\n",
      "  File \"/Library/Frameworks/Python.framework/Versions/3.12/lib/python3.12/multiprocessing/resource_tracker.py\", line 239, in main\n",
      "    cache[rtype].remove(name)\n",
      "KeyError: '/psm_b16b7a64'\n",
      "Traceback (most recent call last):\n",
      "  File \"/Library/Frameworks/Python.framework/Versions/3.12/lib/python3.12/multiprocessing/resource_tracker.py\", line 239, in main\n",
      "    cache[rtype].remove(name)\n",
      "KeyError: '/psm_b9dd8953'\n",
      "Traceback (most recent call last):\n",
      "  File \"/Library/Frameworks/Python.framework/Versions/3.12/lib/python3.12/multiprocessing/resource_tracker.py\", line 239, in main\n",
      "    cache[rtype].remove(name)\n",
      "KeyError: '/psm_dc1ed281'\n",
      "Traceback (most recent call last):\n",
      "  File \"/Library/Frameworks/Python.framework/Versions/3.12/lib/python3.12/multiprocessing/resource_tracker.py\", line 239, in main\n",
      "    cache[rtype].remove(name)\n",
      "KeyError: '/psm_9d557cbd'\n",
      "Traceback (most recent call last):\n",
      "  File \"/Library/Frameworks/Python.framework/Versions/3.12/lib/python3.12/multiprocessing/resource_tracker.py\", line 239, in main\n",
      "    cache[rtype].remove(name)\n",
      "KeyError: '/psm_f1ef8ab1'\n",
      "Traceback (most recent call last):\n",
      "  File \"/Library/Frameworks/Python.framework/Versions/3.12/lib/python3.12/multiprocessing/resource_tracker.py\", line 239, in main\n",
      "    cache[rtype].remove(name)\n",
      "KeyError: '/psm_3d0d4109'\n",
      "Traceback (most recent call last):\n",
      "  File \"/Library/Frameworks/Python.framework/Versions/3.12/lib/python3.12/multiprocessing/resource_tracker.py\", line 239, in main\n",
      "    cache[rtype].remove(name)\n",
      "KeyError: '/psm_f4877d0f'\n",
      "Traceback (most recent call last):\n",
      "  File \"/Library/Frameworks/Python.framework/Versions/3.12/lib/python3.12/multiprocessing/resource_tracker.py\", line 239, in main\n",
      "    cache[rtype].remove(name)\n",
      "KeyError: '/psm_9d7ca204'\n",
      "Traceback (most recent call last):\n",
      "  File \"/Library/Frameworks/Python.framework/Versions/3.12/lib/python3.12/multiprocessing/resource_tracker.py\", line 239, in main\n",
      "    cache[rtype].remove(name)\n",
      "KeyError: '/psm_76dcf9df'\n",
      "Traceback (most recent call last):\n",
      "  File \"/Library/Frameworks/Python.framework/Versions/3.12/lib/python3.12/multiprocessing/resource_tracker.py\", line 239, in main\n",
      "    cache[rtype].remove(name)\n",
      "KeyError: '/psm_f121dac4'\n",
      "Traceback (most recent call last):\n",
      "  File \"/Library/Frameworks/Python.framework/Versions/3.12/lib/python3.12/multiprocessing/resource_tracker.py\", line 239, in main\n",
      "    cache[rtype].remove(name)\n",
      "KeyError: '/psm_5d8f239e'\n",
      "Traceback (most recent call last):\n",
      "  File \"/Library/Frameworks/Python.framework/Versions/3.12/lib/python3.12/multiprocessing/resource_tracker.py\", line 239, in main\n",
      "    cache[rtype].remove(name)\n",
      "KeyError: '/psm_283ecf53'\n",
      "Traceback (most recent call last):\n",
      "  File \"/Library/Frameworks/Python.framework/Versions/3.12/lib/python3.12/multiprocessing/resource_tracker.py\", line 239, in main\n",
      "    cache[rtype].remove(name)\n",
      "KeyError: '/psm_55b0bfef'\n",
      "Traceback (most recent call last):\n",
      "  File \"/Library/Frameworks/Python.framework/Versions/3.12/lib/python3.12/multiprocessing/resource_tracker.py\", line 239, in main\n",
      "    cache[rtype].remove(name)\n",
      "KeyError: '/psm_130f2919'\n",
      "Traceback (most recent call last):\n",
      "  File \"/Library/Frameworks/Python.framework/Versions/3.12/lib/python3.12/multiprocessing/resource_tracker.py\", line 239, in main\n",
      "    cache[rtype].remove(name)\n",
      "KeyError: '/psm_f1a9f702'\n",
      "Traceback (most recent call last):\n",
      "  File \"/Library/Frameworks/Python.framework/Versions/3.12/lib/python3.12/multiprocessing/resource_tracker.py\", line 239, in main\n",
      "    cache[rtype].remove(name)\n",
      "KeyError: '/psm_a5d3771a'\n",
      "Traceback (most recent call last):\n",
      "  File \"/Library/Frameworks/Python.framework/Versions/3.12/lib/python3.12/multiprocessing/resource_tracker.py\", line 239, in main\n",
      "    cache[rtype].remove(name)\n",
      "KeyError: '/psm_e885ccf7'\n",
      "Traceback (most recent call last):\n",
      "  File \"/Library/Frameworks/Python.framework/Versions/3.12/lib/python3.12/multiprocessing/resource_tracker.py\", line 239, in main\n",
      "    cache[rtype].remove(name)\n",
      "KeyError: '/psm_8a6b7792'\n",
      "Traceback (most recent call last):\n",
      "  File \"/Library/Frameworks/Python.framework/Versions/3.12/lib/python3.12/multiprocessing/resource_tracker.py\", line 239, in main\n",
      "    cache[rtype].remove(name)\n",
      "KeyError: '/psm_cd13c0b5'\n",
      "Traceback (most recent call last):\n",
      "  File \"/Library/Frameworks/Python.framework/Versions/3.12/lib/python3.12/multiprocessing/resource_tracker.py\", line 239, in main\n",
      "    cache[rtype].remove(name)\n",
      "KeyError: '/psm_c6b53278'\n",
      "Traceback (most recent call last):\n",
      "  File \"/Library/Frameworks/Python.framework/Versions/3.12/lib/python3.12/multiprocessing/resource_tracker.py\", line 239, in main\n",
      "    cache[rtype].remove(name)\n",
      "KeyError: '/psm_519e20fa'\n",
      "Traceback (most recent call last):\n",
      "  File \"/Library/Frameworks/Python.framework/Versions/3.12/lib/python3.12/multiprocessing/resource_tracker.py\", line 239, in main\n",
      "    cache[rtype].remove(name)\n",
      "KeyError: '/psm_8de83678'\n",
      "Traceback (most recent call last):\n",
      "  File \"/Library/Frameworks/Python.framework/Versions/3.12/lib/python3.12/multiprocessing/resource_tracker.py\", line 239, in main\n",
      "    cache[rtype].remove(name)\n",
      "KeyError: '/psm_4d84cbe1'\n",
      "Traceback (most recent call last):\n",
      "  File \"/Library/Frameworks/Python.framework/Versions/3.12/lib/python3.12/multiprocessing/resource_tracker.py\", line 239, in main\n",
      "    cache[rtype].remove(name)\n",
      "KeyError: '/psm_128e2c9c'\n",
      "Traceback (most recent call last):\n",
      "  File \"/Library/Frameworks/Python.framework/Versions/3.12/lib/python3.12/multiprocessing/resource_tracker.py\", line 239, in main\n",
      "    cache[rtype].remove(name)\n",
      "KeyError: '/psm_0b969ce9'\n",
      "Traceback (most recent call last):\n",
      "  File \"/Library/Frameworks/Python.framework/Versions/3.12/lib/python3.12/multiprocessing/resource_tracker.py\", line 239, in main\n",
      "    cache[rtype].remove(name)\n",
      "KeyError: '/psm_57ccc761'\n",
      "Traceback (most recent call last):\n",
      "  File \"/Library/Frameworks/Python.framework/Versions/3.12/lib/python3.12/multiprocessing/resource_tracker.py\", line 239, in main\n",
      "    cache[rtype].remove(name)\n",
      "KeyError: '/psm_a4339215'\n",
      "Traceback (most recent call last):\n",
      "  File \"/Library/Frameworks/Python.framework/Versions/3.12/lib/python3.12/multiprocessing/resource_tracker.py\", line 239, in main\n",
      "    cache[rtype].remove(name)\n",
      "KeyError: '/psm_eefd81ed'\n",
      "Traceback (most recent call last):\n",
      "  File \"/Library/Frameworks/Python.framework/Versions/3.12/lib/python3.12/multiprocessing/resource_tracker.py\", line 239, in main\n",
      "    cache[rtype].remove(name)\n",
      "KeyError: '/psm_21b6bc1b'\n",
      "Traceback (most recent call last):\n",
      "  File \"/Library/Frameworks/Python.framework/Versions/3.12/lib/python3.12/multiprocessing/resource_tracker.py\", line 239, in main\n",
      "    cache[rtype].remove(name)\n",
      "KeyError: '/psm_82e5e4ed'\n",
      "Traceback (most recent call last):\n",
      "  File \"/Library/Frameworks/Python.framework/Versions/3.12/lib/python3.12/multiprocessing/resource_tracker.py\", line 239, in main\n",
      "    cache[rtype].remove(name)\n",
      "KeyError: '/psm_7eb1f8d6'\n",
      "Traceback (most recent call last):\n",
      "  File \"/Library/Frameworks/Python.framework/Versions/3.12/lib/python3.12/multiprocessing/resource_tracker.py\", line 239, in main\n",
      "    cache[rtype].remove(name)\n",
      "KeyError: '/psm_608dc769'\n",
      "Traceback (most recent call last):\n",
      "  File \"/Library/Frameworks/Python.framework/Versions/3.12/lib/python3.12/multiprocessing/resource_tracker.py\", line 239, in main\n",
      "    cache[rtype].remove(name)\n",
      "KeyError: '/psm_1a0a92f9'\n",
      "Traceback (most recent call last):\n",
      "  File \"/Library/Frameworks/Python.framework/Versions/3.12/lib/python3.12/multiprocessing/resource_tracker.py\", line 239, in main\n",
      "    cache[rtype].remove(name)\n",
      "KeyError: '/psm_da87ae0f'\n",
      "Traceback (most recent call last):\n",
      "  File \"/Library/Frameworks/Python.framework/Versions/3.12/lib/python3.12/multiprocessing/resource_tracker.py\", line 239, in main\n",
      "    cache[rtype].remove(name)\n",
      "KeyError: '/psm_1d2e4dcd'\n",
      "Traceback (most recent call last):\n",
      "  File \"/Library/Frameworks/Python.framework/Versions/3.12/lib/python3.12/multiprocessing/resource_tracker.py\", line 239, in main\n",
      "    cache[rtype].remove(name)\n",
      "KeyError: '/psm_4bc2e127'\n"
     ]
    },
    {
     "data": {
      "text/plain": [
       "   interval  n1  n2  Return [%]  No. Tradees\n",
       "1  1d_train  19  57   55.379807            1\n",
       "0  4h_train  12  20   41.221234           42"
      ],
      "text/html": [
       "<div>\n",
       "<style scoped>\n",
       "    .dataframe tbody tr th:only-of-type {\n",
       "        vertical-align: middle;\n",
       "    }\n",
       "\n",
       "    .dataframe tbody tr th {\n",
       "        vertical-align: top;\n",
       "    }\n",
       "\n",
       "    .dataframe thead th {\n",
       "        text-align: right;\n",
       "    }\n",
       "</style>\n",
       "<table border=\"1\" class=\"dataframe\">\n",
       "  <thead>\n",
       "    <tr style=\"text-align: right;\">\n",
       "      <th></th>\n",
       "      <th>interval</th>\n",
       "      <th>n1</th>\n",
       "      <th>n2</th>\n",
       "      <th>Return [%]</th>\n",
       "      <th>No. Tradees</th>\n",
       "    </tr>\n",
       "  </thead>\n",
       "  <tbody>\n",
       "    <tr>\n",
       "      <th>1</th>\n",
       "      <td>1d_train</td>\n",
       "      <td>19</td>\n",
       "      <td>57</td>\n",
       "      <td>55.379807</td>\n",
       "      <td>1</td>\n",
       "    </tr>\n",
       "    <tr>\n",
       "      <th>0</th>\n",
       "      <td>4h_train</td>\n",
       "      <td>12</td>\n",
       "      <td>20</td>\n",
       "      <td>41.221234</td>\n",
       "      <td>42</td>\n",
       "    </tr>\n",
       "  </tbody>\n",
       "</table>\n",
       "</div>"
      ]
     },
     "execution_count": 4,
     "metadata": {},
     "output_type": "execute_result"
    }
   ],
   "execution_count": 4
  },
  {
   "metadata": {
    "ExecuteTime": {
     "end_time": "2025-06-10T22:37:09.017017Z",
     "start_time": "2025-06-10T22:37:08.991109Z"
    }
   },
   "cell_type": "code",
   "source": [
    "test_best_strategy = Backtest(data_tts['1d_test'], SmaCross, cash=10_000_000, commission=0.002)\n",
    "stats = test_best_strategy.run(n1=19, n2=57)\n",
    "print(stats)"
   ],
   "id": "c9054a4edf543e05",
   "outputs": [
    {
     "name": "stdout",
     "output_type": "stream",
     "text": [
      "Start                     2025-02-16 00:00:00\n",
      "End                       2025-06-05 00:00:00\n",
      "Duration                    109 days 00:00:00\n",
      "Exposure Time [%]                         0.0\n",
      "Equity Final [$]               10700546.91602\n",
      "Equity Peak [$]                11760766.36914\n",
      "Return [%]                            7.00547\n",
      "Buy & Hold Return [%]                21.37896\n",
      "Return (Ann.) [%]                    25.19136\n",
      "Volatility (Ann.) [%]                25.79006\n",
      "CAGR [%]                             25.44968\n",
      "Sharpe Ratio                          0.97679\n",
      "Sortino Ratio                         2.14906\n",
      "Calmar Ratio                          2.79442\n",
      "Alpha [%]                             3.79957\n",
      "Beta                                  0.14996\n",
      "Max. Drawdown [%]                    -9.01488\n",
      "Avg. Drawdown [%]                    -2.36279\n",
      "Max. Drawdown Duration       14 days 00:00:00\n",
      "Avg. Drawdown Duration        6 days 00:00:00\n",
      "# Trades                                    0\n",
      "Win Rate [%]                              NaN\n",
      "Best Trade [%]                            NaN\n",
      "Worst Trade [%]                           NaN\n",
      "Avg. Trade [%]                            NaN\n",
      "Max. Trade Duration                       NaN\n",
      "Avg. Trade Duration                       NaN\n",
      "Profit Factor                             NaN\n",
      "Expectancy [%]                            NaN\n",
      "SQN                                       NaN\n",
      "Kelly Criterion                           NaN\n",
      "_strategy                 SmaCross(n1=19,n...\n",
      "_equity_curve                             ...\n",
      "_trades                   Empty DataFrame\n",
      "...\n",
      "dtype: object\n"
     ]
    }
   ],
   "execution_count": 7
  },
  {
   "metadata": {},
   "cell_type": "code",
   "outputs": [],
   "execution_count": null,
   "source": "",
   "id": "7e344140df0fde53"
  }
 ],
 "metadata": {
  "kernelspec": {
   "display_name": "Python 3",
   "language": "python",
   "name": "python3"
  },
  "language_info": {
   "codemirror_mode": {
    "name": "ipython",
    "version": 2
   },
   "file_extension": ".py",
   "mimetype": "text/x-python",
   "name": "python",
   "nbconvert_exporter": "python",
   "pygments_lexer": "ipython2",
   "version": "2.7.6"
  }
 },
 "nbformat": 4,
 "nbformat_minor": 5
}
