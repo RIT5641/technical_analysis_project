{
 "cells": [
  {
   "cell_type": "code",
   "id": "initial_id",
   "metadata": {
    "collapsed": true,
    "ExecuteTime": {
     "end_time": "2025-06-10T14:20:09.565988Z",
     "start_time": "2025-06-10T14:20:09.562895Z"
    }
   },
   "source": [
    "from module.train_test_split import TrainTestSets\n",
    "from module.optimization import SMAOptTechAnalysis\n",
    "from module.strategies import SmaCross, strategy_2"
   ],
   "outputs": [],
   "execution_count": 6
  },
  {
   "metadata": {
    "ExecuteTime": {
     "end_time": "2025-06-10T14:20:10.316597Z",
     "start_time": "2025-06-10T14:20:09.936691Z"
    }
   },
   "cell_type": "code",
   "source": [
    "tts = TrainTestSets()\n",
    "ticker = 'BTC-USD'\n",
    "intervals = [\"4h\", \"1d\"]\n",
    "# dict\n",
    "data_tts = tts.interval_train_test_split(ticker=ticker, intervals=intervals)\n",
    "print(data_tts.keys())"
   ],
   "id": "a0ee9b5c9bcc1c2f",
   "outputs": [
    {
     "name": "stderr",
     "output_type": "stream",
     "text": [
      "[*********************100%***********************]  1 of 1 completed\n",
      "[*********************100%***********************]  1 of 1 completed\n",
      "[*********************100%***********************]  1 of 1 completed\n",
      "[*********************100%***********************]  1 of 1 completed\n",
      "[*********************100%***********************]  1 of 1 completed\n",
      "[*********************100%***********************]  1 of 1 completed\n",
      "[*********************100%***********************]  1 of 1 completed\n",
      "[*********************100%***********************]  1 of 1 completed\n",
      "[*********************100%***********************]  1 of 1 completed\n",
      "[*********************100%***********************]  1 of 1 completed\n",
      "[*********************100%***********************]  1 of 1 completed\n",
      "[*********************100%***********************]  1 of 1 completed"
     ]
    },
    {
     "name": "stdout",
     "output_type": "stream",
     "text": [
      "dict_keys(['1m_train', '1m_test', '2m_train', '2m_test', '5m_train', '5m_test', '15m_train', '15m_test', '30m_train', '30m_test', '60m_train', '60m_test', '90m_train', '90m_test', '1h_train', '1h_test', '4h_train', '4h_test', '1d_train', '1d_test', '5d_train', '5d_test', '1wk_train', '1wk_test'])\n"
     ]
    },
    {
     "name": "stderr",
     "output_type": "stream",
     "text": [
      "\n"
     ]
    }
   ],
   "execution_count": 7
  },
  {
   "metadata": {
    "ExecuteTime": {
     "end_time": "2025-06-10T14:26:40.221939Z",
     "start_time": "2025-06-10T14:26:40.197929Z"
    }
   },
   "cell_type": "code",
   "source": [
    "\n",
    "n1 = range(5,20)\n",
    "n2 = range(20,60)\n",
    "optimizer = SMAOptTechAnalysis(SmaCross)\n",
    "optimizer.sma_strategy_opt(all_data=data_tts, n1=n1, n2=n2)\n"
   ],
   "id": "63fc808553f9dfc4",
   "outputs": [
    {
     "ename": "TypeError",
     "evalue": "Strategy.__init__() missing 2 required positional arguments: 'data' and 'params'",
     "output_type": "error",
     "traceback": [
      "\u001B[31m---------------------------------------------------------------------------\u001B[39m",
      "\u001B[31mTypeError\u001B[39m                                 Traceback (most recent call last)",
      "\u001B[36mCell\u001B[39m\u001B[36m \u001B[39m\u001B[32mIn[11]\u001B[39m\u001B[32m, line 1\u001B[39m\n\u001B[32m----> \u001B[39m\u001B[32m1\u001B[39m SmaCross = \u001B[43mSmaCross\u001B[49m\u001B[43m(\u001B[49m\u001B[43mdata_tts\u001B[49m\u001B[43m)\u001B[49m\n\u001B[32m      2\u001B[39m n1 = \u001B[38;5;28mrange\u001B[39m(\u001B[32m5\u001B[39m,\u001B[32m20\u001B[39m)\n\u001B[32m      3\u001B[39m n2 = \u001B[38;5;28mrange\u001B[39m(\u001B[32m20\u001B[39m,\u001B[32m60\u001B[39m)\n",
      "\u001B[31mTypeError\u001B[39m: Strategy.__init__() missing 2 required positional arguments: 'data' and 'params'"
     ]
    }
   ],
   "execution_count": 11
  },
  {
   "metadata": {},
   "cell_type": "code",
   "outputs": [],
   "execution_count": null,
   "source": "from backtesting import Backtest\n",
   "id": "c9054a4edf543e05"
  }
 ],
 "metadata": {
  "kernelspec": {
   "display_name": "Python 3",
   "language": "python",
   "name": "python3"
  },
  "language_info": {
   "codemirror_mode": {
    "name": "ipython",
    "version": 2
   },
   "file_extension": ".py",
   "mimetype": "text/x-python",
   "name": "python",
   "nbconvert_exporter": "python",
   "pygments_lexer": "ipython2",
   "version": "2.7.6"
  }
 },
 "nbformat": 4,
 "nbformat_minor": 5
}
